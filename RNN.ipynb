{
 "cells": [
  {
   "cell_type": "code",
   "execution_count": 1,
   "metadata": {
    "collapsed": false
   },
   "outputs": [],
   "source": [
    "import pandas as pd\n",
    "import numpy as np\n",
    "import tensorflow as tf \n",
    "import matplotlib.pyplot as plt\n",
    "%matplotlib inline\n",
    "import math\n",
    "from sklearn.preprocessing import MinMaxScaler\n",
    "from sklearn.metrics import mean_squared_error\n",
    "from tensorflow.python.framework import ops"
   ]
  },
  {
   "cell_type": "code",
   "execution_count": 2,
   "metadata": {
    "collapsed": false
   },
   "outputs": [],
   "source": [
    "df = pd.read_csv('10-09.csv')"
   ]
  },
  {
   "cell_type": "code",
   "execution_count": 3,
   "metadata": {
    "collapsed": false
   },
   "outputs": [
    {
     "data": {
      "image/png": "[encoded data removed]",
      "text/plain": [
       "<matplotlib.figure.Figure at 0x7f6e788d57d0>"
      ]
     },
     "metadata": {},
     "output_type": "display_data"
    }
   ],
   "source": [
    "plt.plot(df['Tag1'])\n",
    "plt.show()"
   ]
  },
  {
   "cell_type": "code",
   "execution_count": 4,
   "metadata": {
    "collapsed": false
   },
   "outputs": [],
   "source": [
    "raw_data = pd.DataFrame.as_matrix(df)"
   ]
  },
  {
   "cell_type": "code",
   "execution_count": 5,
   "metadata": {
    "collapsed": true
   },
   "outputs": [],
   "source": [
    "#Removing the time Colmn and labels\n",
    "data = raw_data[:,1:-1]\n",
    "labels = raw_data[:,-1]"
   ]
  },
  {
   "cell_type": "code",
   "execution_count": 6,
   "metadata": {
    "collapsed": false
   },
   "outputs": [
    {
     "name": "stderr",
     "output_type": "stream",
     "text": [
      "/home/peyush/DeepLearning/tfEnv/local/lib/python2.7/site-packages/sklearn/utils/validation.py:429: DataConversionWarning: Data with input dtype object was converted to float64 by MinMaxScaler.\n",
      "  warnings.warn(msg, _DataConversionWarning)\n"
     ]
    }
   ],
   "source": [
    "# normalize the dataset\n",
    "scaler = MinMaxScaler(feature_range=(0, 1))\n",
    "data = scaler.fit_transform(data)"
   ]
  },
  {
   "cell_type": "code",
   "execution_count": 7,
   "metadata": {
    "collapsed": true
   },
   "outputs": [],
   "source": [
    "def sample_batch(X_train,y_train,batch_size,num_steps):\n",
    "    \"\"\" Function to sample a batch for training\"\"\"\n",
    "    N,data_len = X_train.shape\n",
    "    ind_N = np.random.choice(N,batch_size,replace=False)\n",
    "    ind_start = np.random.choice(data_len-num_steps,1)\n",
    "    X_batch = X_train[ind_N,ind_start:ind_start+num_steps]\n",
    "    y_batch = y_train[ind_N]\n",
    "    return X_batch,y_batch"
   ]
  },
  {
   "cell_type": "code",
   "execution_count": 8,
   "metadata": {
    "collapsed": false
   },
   "outputs": [],
   "source": [
    "def check_test(X_test,y_test,batch_size,num_steps):\n",
    "    \"\"\" Function to check the test_accuracy on the entire test set\"\"\"\n",
    "    N = X_test.shape[0]\n",
    "    num_batch = np.floor(N/batch_size)\n",
    "    test_acc = np.zeros(num_batch)\n",
    "    for i in range(int(num_batch)):\n",
    "        X_batch, y_batch = sample_batch(X_test,y_test,batch_size,num_steps)\n",
    "        test_acc[i] = sess.run(accuracy,feed_dict = {input_data: X_batch, targets: y_batch,keep_prob:1})\n",
    "    return np.mean(test_acc)\n",
    "\n"
   ]
  },
  {
   "cell_type": "code",
   "execution_count": 9,
   "metadata": {
    "collapsed": false
   },
   "outputs": [],
   "source": [
    "val_size = int(len(data) * 0.2)\n",
    "X_val, y_val  = data[len(data) - val_size:len(data), :], labels[len(labels) - val_size:len(labels)]\n",
    "data = data[0:len(data)-val_size,:]\n",
    "labels = labels[0:len(labels) - val_size]"
   ]
  },
  {
   "cell_type": "code",
   "execution_count": 10,
   "metadata": {
    "collapsed": false
   },
   "outputs": [
    {
     "data": {
      "text/plain": [
       "69120"
      ]
     },
     "execution_count": 10,
     "metadata": {},
     "output_type": "execute_result"
    }
   ],
   "source": [
    "len(labels)"
   ]
  },
  {
   "cell_type": "code",
   "execution_count": 11,
   "metadata": {
    "collapsed": false
   },
   "outputs": [
    {
     "name": "stdout",
     "output_type": "stream",
     "text": [
      "(46310, 22810)\n"
     ]
    }
   ],
   "source": [
    "#Gatting TEst set\n",
    "train_size = int(len(data) * 0.67)\n",
    "test_size = len(data) - train_size\n",
    "X_train, X_test = data[0:train_size,:], data[train_size:len(data),:]\n",
    "y_train, y_test = labels[0:train_size], labels[train_size:len(labels)]\n",
    "print(len(X_train), len(X_test))"
   ]
  },
  {
   "cell_type": "code",
   "execution_count": 12,
   "metadata": {
    "collapsed": false
   },
   "outputs": [],
   "source": [
    "num_classes = len(np.unique(labels))\n",
    "def dense_to_one_hot(labels_dense, num_classes=num_classes):\n",
    "    \"\"\"Convert class labels from scalars to one-hot vectors.\"\"\"\n",
    "    labels_dense = np.array(labels_dense, dtype=int)\n",
    "    num_labels = labels_dense.shape[0]\n",
    "    index_offset = np.arange(num_labels) * num_classes\n",
    "    labels_one_hot = np.zeros((num_labels, num_classes))\n",
    "    labels_one_hot.flat[index_offset + labels_dense.ravel()] = 1\n",
    "    return labels_one_hot"
   ]
  },
  {
   "cell_type": "code",
   "execution_count": 13,
   "metadata": {
    "collapsed": false
   },
   "outputs": [
    {
     "data": {
      "text/plain": [
       "array([0, 1, 2, 3, 4, 5, 6, 7, 8], dtype=object)"
      ]
     },
     "execution_count": 13,
     "metadata": {},
     "output_type": "execute_result"
    }
   ],
   "source": [
    "np.unique(y_train)"
   ]
  },
  {
   "cell_type": "code",
   "execution_count": 14,
   "metadata": {
    "collapsed": true
   },
   "outputs": [],
   "source": [
    "\"\"\"Hyperparamaters\"\"\"\n",
    "max_grad_norm = 5           #Clipping of the gradient before update\n",
    "num_layers = 1              #Number of stacked LSTM layers\n",
    "num_steps = 7              #Number of steps to backprop over at every batch\n",
    "hidden_size = 13            #Number of entries of the cell state of the LSTM\n",
    "max_iterations = 2000       #Maximum iterations to train\n",
    "batch_size = 40             #Batch size\n",
    "dropout = 0.8               #Keep probability of the dropout wrapper"
   ]
  },
  {
   "cell_type": "code",
   "execution_count": 15,
   "metadata": {
    "collapsed": true
   },
   "outputs": [],
   "source": [
    "N = X_train.shape[0]\n",
    "Ntest = X_test.shape[0]"
   ]
  },
  {
   "cell_type": "code",
   "execution_count": 16,
   "metadata": {
    "collapsed": false
   },
   "outputs": [
    {
     "name": "stdout",
     "output_type": "stream",
     "text": [
      "Train with approximately 1 epochs\n"
     ]
    }
   ],
   "source": [
    "# Collect the costs in a numpy fashion\n",
    "epochs = np.floor(batch_size*max_iterations / N)\n",
    "print('Train with approximately %d epochs' %(epochs))\n",
    "perf_collect = np.zeros((3,int(np.floor(max_iterations /100))))\n",
    "\n",
    "\n",
    "\"\"\"Place holders\"\"\"\n",
    "input_data = tf.placeholder(tf.float32, [None, num_steps], name = 'input_data')\n",
    "targets = tf.placeholder(tf.int64, [None], name='Targets')\n",
    "keep_prob = tf.placeholder(\"float\", name = 'Drop_out_keep_prob')\n",
    "\n",
    "with tf.name_scope(\"LSTM_setup\") as scope:\n",
    "    cell = tf.nn.rnn_cell.LSTMCell(hidden_size)\n",
    "    cell = tf.nn.rnn_cell.DropoutWrapper(cell, output_keep_prob=keep_prob)\n",
    "    cell = tf.nn.rnn_cell.MultiRNNCell([cell] * num_layers)\n",
    "    initial_state = cell.zero_state(batch_size, tf.float32)\n",
    "    #We have only one input dimension, but we generalize our code for future expansion\n",
    "    inputs = tf.expand_dims(input_data, 2)\n",
    "    tf.Print(inputs, [inputs])"
   ]
  },
  {
   "cell_type": "code",
   "execution_count": 17,
   "metadata": {
    "collapsed": false
   },
   "outputs": [
    {
     "data": {
      "text/plain": [
       "<tf.Tensor 'strided_slice:0' shape=(?, 1) dtype=float32>"
      ]
     },
     "execution_count": 17,
     "metadata": {},
     "output_type": "execute_result"
    }
   ],
   "source": [
    "inputs[:,2,:]"
   ]
  },
  {
   "cell_type": "code",
   "execution_count": 18,
   "metadata": {
    "collapsed": false
   },
   "outputs": [],
   "source": [
    "#Define the recurrent nature of the LSTM\n",
    "with tf.name_scope(\"LSTM\") as scope:\n",
    "    outputs = []\n",
    "    state = initial_state\n",
    "    with tf.variable_scope(\"LSTM_state\"):\n",
    "        for time_step in range(num_steps):\n",
    "            if time_step > 0: tf.get_variable_scope().reuse_variables() #Re-use variables only after first time-step\n",
    "            (cell_output, state) = cell(inputs[:, time_step, :], state)\n",
    "            outputs.append(cell_output)       #Now cell_output is size [batch_size x hidden_size]\n",
    "    output = tf.reduce_mean(tf.pack(outputs),0)"
   ]
  },
  {
   "cell_type": "code",
   "execution_count": 19,
   "metadata": {
    "collapsed": false
   },
   "outputs": [
    {
     "data": {
      "text/plain": [
       "<tf.Tensor 'LSTM/Mean:0' shape=(40, 13) dtype=float32>"
      ]
     },
     "execution_count": 19,
     "metadata": {},
     "output_type": "execute_result"
    }
   ],
   "source": [
    "a = np.array([[[1],[3]],[[5],[7]]])\n",
    "output"
   ]
  },
  {
   "cell_type": "code",
   "execution_count": 20,
   "metadata": {
    "collapsed": false
   },
   "outputs": [],
   "source": [
    "#Generate a classification from the last cell_output\n",
    "#Note, this is where timeseries classification differs from sequence to sequence\n",
    "#modelling. We only output to Softmax at last time step\n",
    "with tf.name_scope(\"Softmax\") as scope:\n",
    "    with tf.variable_scope(\"Softmax_params\"):\n",
    "        softmax_w = tf.get_variable(\"softmax_w\", [hidden_size, num_classes])\n",
    "        softmax_b = tf.get_variable(\"softmax_b\", [num_classes])\n",
    "    logits = tf.nn.xw_plus_b(output, softmax_w, softmax_b)\n",
    "    #Use sparse Softmax because we have mutually exclusive classes\n",
    "    loss = tf.nn.sparse_softmax_cross_entropy_with_logits(logits,targets,name = 'Sparse_softmax')\n",
    "    cost = tf.reduce_sum(loss) / batch_size\n",
    "with tf.name_scope(\"Evaluating_accuracy\") as scope:\n",
    "    correct_prediction = tf.equal(tf.argmax(logits,1),targets)\n",
    "    accuracy = tf.reduce_mean(tf.cast(correct_prediction, \"float\"))"
   ]
  },
  {
   "cell_type": "code",
   "execution_count": 21,
   "metadata": {
    "collapsed": false
   },
   "outputs": [],
   "source": [
    "\"\"\"Optimizer\"\"\"\n",
    "with tf.name_scope(\"Optimizer\") as scope:\n",
    "    tvars = tf.trainable_variables()\n",
    "    grads, _ = tf.clip_by_global_norm(tf.gradients(cost, tvars),max_grad_norm)   #We clip the gradients to prevent explosion\n",
    "    optimizer = tf.train.AdamOptimizer(5e-3)\n",
    "    gradients = zip(grads, tvars)\n",
    "    train_op = optimizer.apply_gradients(gradients)\n",
    "    # Add histograms for variables, gradients and gradient norms.\n",
    "    # The for-loop loops over all entries of the gradient and plots\n",
    "    # a histogram. We cut of\n",
    "    for gradient, variable in gradients:\n",
    "        grad_values = \"\"\n",
    "        if isinstance(gradient, ops.IndexedSlices):\n",
    "            grad_values = gradient.values\n",
    "        else:\n",
    "            grad_values = gradient\n",
    "        h1 = tf.histogram_summary(variable.name, variable)\n",
    "        h2 = tf.histogram_summary(variable.name + \"/gradients\", grad_values)\n",
    "        h3 = tf.histogram_summary(variable.name + \"/gradient_norm\", tf.global_norm([grad_values]))"
   ]
  },
  {
   "cell_type": "code",
   "execution_count": 22,
   "metadata": {
    "collapsed": false
   },
   "outputs": [],
   "source": [
    "#Final code for the TensorBoard\n",
    "merged = tf.merge_all_summaries()\n",
    "\n",
    "\"\"\"Session time\"\"\"\n",
    "sess = tf.Session() #Depending on your use, do not forget to close the session\n",
    "writer = tf.train.SummaryWriter(\"log_tb\")\n",
    "sess.run(tf.initialize_all_variables())"
   ]
  },
  {
   "cell_type": "code",
   "execution_count": 23,
   "metadata": {
    "collapsed": false
   },
   "outputs": [
    {
     "data": {
      "text/plain": [
       "(46310, 9)"
      ]
     },
     "execution_count": 23,
     "metadata": {},
     "output_type": "execute_result"
    }
   ],
   "source": [
    "X_train.shape"
   ]
  },
  {
   "cell_type": "code",
   "execution_count": 24,
   "metadata": {
    "collapsed": false
   },
   "outputs": [
    {
     "name": "stderr",
     "output_type": "stream",
     "text": [
      "/home/peyush/DeepLearning/tfEnv/lib/python2.7/site-packages/ipykernel/__main__.py:6: VisibleDeprecationWarning: converting an array with ndim > 0 to an index will result in an error in the future\n"
     ]
    },
    {
     "name": "stdout",
     "output_type": "stream",
     "text": [
      "At     0 out of  2000: Cost is TRAIN2.072(2.196) VAL2.348 and val acc is 0.000\n",
      "At   100 out of  2000: Cost is TRAIN0.938(1.569) VAL1.287 and val acc is 0.625\n",
      "At   200 out of  2000: Cost is TRAIN1.264(1.233) VAL0.968 and val acc is 0.675\n",
      "At   300 out of  2000: Cost is TRAIN1.045(1.085) VAL0.975 and val acc is 0.675\n",
      "At   400 out of  2000: Cost is TRAIN1.132(1.019) VAL0.930 and val acc is 0.675\n",
      "At   500 out of  2000: Cost is TRAIN0.796(0.985) VAL1.241 and val acc is 0.575\n",
      "At   600 out of  2000: Cost is TRAIN0.973(0.970) VAL0.889 and val acc is 0.800\n",
      "At   700 out of  2000: Cost is TRAIN0.803(0.947) VAL0.929 and val acc is 0.650\n",
      "At   800 out of  2000: Cost is TRAIN1.020(0.954) VAL1.088 and val acc is 0.650\n",
      "At   900 out of  2000: Cost is TRAIN1.010(0.959) VAL0.834 and val acc is 0.725\n",
      "At  1000 out of  2000: Cost is TRAIN1.102(0.953) VAL1.103 and val acc is 0.600\n",
      "At  1100 out of  2000: Cost is TRAIN0.894(0.963) VAL1.092 and val acc is 0.675\n",
      "At  1200 out of  2000: Cost is TRAIN1.052(0.975) VAL1.417 and val acc is 0.650\n",
      "At  1300 out of  2000: Cost is TRAIN0.920(0.955) VAL1.210 and val acc is 0.575\n",
      "At  1400 out of  2000: Cost is TRAIN0.799(0.932) VAL1.026 and val acc is 0.650\n",
      "At  1500 out of  2000: Cost is TRAIN0.862(0.939) VAL0.857 and val acc is 0.825\n",
      "At  1600 out of  2000: Cost is TRAIN1.043(0.941) VAL0.922 and val acc is 0.700\n",
      "At  1700 out of  2000: Cost is TRAIN1.140(0.945) VAL0.897 and val acc is 0.750\n",
      "At  1800 out of  2000: Cost is TRAIN0.824(0.952) VAL1.412 and val acc is 0.525\n",
      "At  1900 out of  2000: Cost is TRAIN0.675(0.951) VAL1.140 and val acc is 0.600\n"
     ]
    },
    {
     "name": "stderr",
     "output_type": "stream",
     "text": [
      "/home/peyush/DeepLearning/tfEnv/lib/python2.7/site-packages/ipykernel/__main__.py:5: VisibleDeprecationWarning: using a non-integer number instead of an integer will result in an error in the future\n"
     ]
    }
   ],
   "source": [
    "step = 0\n",
    "cost_train_ma = -np.log(1/float(num_classes)+1e-9)  #Moving average training cost\n",
    "for i in range(max_iterations):\n",
    "    # Calculate some sizes\n",
    "    N = X_train.shape[0]\n",
    "    #Sample batch for training\n",
    "    X_batch, y_batch = sample_batch(X_train,y_train,batch_size,num_steps)\n",
    "\n",
    "    #Next line does the actual training\n",
    "    cost_train, _ = sess.run([cost, train_op],\n",
    "                             feed_dict = {input_data: X_batch,targets: y_batch,keep_prob:dropout})\n",
    "    cost_train_ma = cost_train_ma*0.99 + cost_train*0.01\n",
    "    if i%100 == 0:\n",
    "        #Evaluate training performance\n",
    "        perf_collect[0,step] = cost_train\n",
    "\n",
    "        #Evaluate validation performance\n",
    "        X_batch, y_batch = sample_batch(X_val,y_val,batch_size,num_steps)\n",
    "        result = sess.run([cost,merged,accuracy],\n",
    "                          feed_dict = {input_data: X_batch, targets: y_batch, keep_prob:1})\n",
    "        cost_val = result[0]\n",
    "        perf_collect[1,step] = cost_val\n",
    "        acc_val = result[2]\n",
    "        perf_collect[2,step] = acc_val\n",
    "        print('At %5.0f out of %5.0f: Cost is TRAIN%.3f(%.3f) VAL%.3f and val acc is %.3f'\n",
    "              %(i,max_iterations,cost_train,cost_train_ma,cost_val,acc_val))\n",
    "\n",
    "\n",
    "        #Write information to TensorBoard\n",
    "        summary_str = result[1]\n",
    "        writer.add_summary(summary_str, i)\n",
    "        writer.flush()\n",
    "\n",
    "        step +=1\n",
    "acc_test = check_test(X_test,y_test,batch_size,num_steps)"
   ]
  },
  {
   "cell_type": "code",
   "execution_count": 25,
   "metadata": {
    "collapsed": false
   },
   "outputs": [
    {
     "name": "stdout",
     "output_type": "stream",
     "text": [
      "The accuracy on the test data is 0.598\n"
     ]
    },
    {
     "data": {
      "image/png": "[encoded data removed]",
      "text/plain": [
       "<matplotlib.figure.Figure at 0x7f6e76236190>"
      ]
     },
     "metadata": {},
     "output_type": "display_data"
    }
   ],
   "source": [
    "\"\"\"Additional plots\"\"\"\n",
    "print('The accuracy on the test data is %.3f' %(acc_test))\n",
    "plt.plot(perf_collect[0],label='Train')\n",
    "plt.plot(perf_collect[1],label = 'Valid')\n",
    "plt.plot(perf_collect[2],label = 'Valid accuracy')\n",
    "plt.axis([0, step, 0, np.max(perf_collect)])\n",
    "plt.legend()\n",
    "plt.show()"
   ]
  },
  {
   "cell_type": "code",
   "execution_count": null,
   "metadata": {
    "collapsed": true
   },
   "outputs": [],
   "source": []
  },
  {
   "cell_type": "code",
   "execution_count": null,
   "metadata": {
    "collapsed": true
   },
   "outputs": [],
   "source": []
  },
  {
   "cell_type": "code",
   "execution_count": null,
   "metadata": {
    "collapsed": true
   },
   "outputs": [],
   "source": []
  }
 ],
 "metadata": {
  "kernelspec": {
   "display_name": "Python 2",
   "language": "python",
   "name": "python2"
  },
  "language_info": {
   "codemirror_mode": {
    "name": "ipython",
    "version": 2
   },
   "file_extension": ".py",
   "mimetype": "text/x-python",
   "name": "python",
   "nbconvert_exporter": "python",
   "pygments_lexer": "ipython2",
   "version": "2.7.12"
  }
 },
 "nbformat": 4,
 "nbformat_minor": 1
}
